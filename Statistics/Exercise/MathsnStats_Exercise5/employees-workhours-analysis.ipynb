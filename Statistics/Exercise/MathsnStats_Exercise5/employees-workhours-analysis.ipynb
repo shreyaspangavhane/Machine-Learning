{
 "cells": [
  {
   "cell_type": "markdown",
   "id": "f2a42236",
   "metadata": {},
   "source": [
    "## Problem Statement\n",
    "\n",
    "\n",
    "You are a data scientist at a management consulting firm specializing in workplace efficiency and employee productivity. You have been provided with a dataset named **\"employees_work_hours_data.csv\"**, containing detailed records of employees’ work hours and related attributes in a corporate setting. The dataset includes the following columns:\n",
    "\n",
    "- **employee_id:** A unique identifier for each employee.\n",
    "- **department:** The department where the employee works (e.g., Sales, IT, HR).\n",
    "- **remote_working:** Indicates whether the employee is working remotely (Yes/No).\n",
    "- **hours_worked_per_day:** The average number of hours the employee works per day."
   ]
  },
  {
   "cell_type": "code",
   "execution_count": null,
   "id": "20990fe8",
   "metadata": {},
   "outputs": [],
   "source": []
  },
  {
   "cell_type": "markdown",
   "id": "f864cedf",
   "metadata": {},
   "source": [
    "**Import Necessary Libraries**"
   ]
  },
  {
   "cell_type": "code",
   "execution_count": 10,
   "id": "1461f7c7",
   "metadata": {},
   "outputs": [],
   "source": []
  },
  {
   "cell_type": "markdown",
   "id": "c33a8f65",
   "metadata": {},
   "source": [
    "### Task1: Importing and Examining the Dataset\n",
    "\n",
    "1. Import the data from the \"employees_work_hours_data.csv\" file.\n",
    "2. display the number of rows and columns. \n",
    "3. Display the first few rows of the dataset to get an overview.\n"
   ]
  },
  {
   "cell_type": "code",
   "execution_count": null,
   "id": "354c5b81",
   "metadata": {},
   "outputs": [],
   "source": []
  },
  {
   "cell_type": "markdown",
   "id": "f3b62614",
   "metadata": {},
   "source": [
    "### Task2: Statistical Measures of Work Hours\n",
    "\n",
    "Compute fundamental statistical measures for the 'hours_worked_per_day' column.\n",
    "- **Calculate the Mean**: Average number of hours worked per day by the employees.\n",
    "- **Compute the Standard Deviation**: The amount of variation or dispersion in the daily work hours."
   ]
  },
  {
   "cell_type": "code",
   "execution_count": null,
   "id": "194393f2",
   "metadata": {},
   "outputs": [],
   "source": []
  },
  {
   "cell_type": "markdown",
   "id": "69f30183",
   "metadata": {},
   "source": [
    "### Task3: Calculating Z-Scores for Outlier Detection\n",
    "\n",
    "- **Compute Z-Scores:** For each entry in the 'hours_worked_per_day' column, calculate its Z-score. The Z-score represents how many standard deviations a value is from the mean, which is crucial for identifying outliers."
   ]
  },
  {
   "cell_type": "code",
   "execution_count": null,
   "id": "69ea8c90",
   "metadata": {},
   "outputs": [],
   "source": []
  },
  {
   "cell_type": "markdown",
   "id": "4310814a",
   "metadata": {},
   "source": [
    "### Task4: Removing Outliers Based on Z-Scores\n",
    "\n",
    "- Identify and exclude rows where the 'hours_worked_per_day' Z-score is less than -3 or greater than +3, thus removing outliers from the dataset."
   ]
  },
  {
   "cell_type": "code",
   "execution_count": null,
   "id": "43ed89a7",
   "metadata": {},
   "outputs": [],
   "source": []
  },
  {
   "cell_type": "markdown",
   "id": "09926056",
   "metadata": {},
   "source": [
    "### Task5: Standard Normal Distribution Post-Outlier Removal\n",
    "\n",
    "-  Construct a visual plot of the Standard Normal Distribution using the Z-scores from the 'hours_worked_per_day' data, ensuring to include only the data after outlier removal. "
   ]
  },
  {
   "cell_type": "code",
   "execution_count": null,
   "id": "eca3fffb",
   "metadata": {},
   "outputs": [],
   "source": []
  }
 ],
 "metadata": {
  "kernelspec": {
   "display_name": "Python 3 (ipykernel)",
   "language": "python",
   "name": "python3"
  },
  "language_info": {
   "codemirror_mode": {
    "name": "ipython",
    "version": 3
   },
   "file_extension": ".py",
   "mimetype": "text/x-python",
   "name": "python",
   "nbconvert_exporter": "python",
   "pygments_lexer": "ipython3",
   "version": "3.8.10"
  }
 },
 "nbformat": 4,
 "nbformat_minor": 5
}
