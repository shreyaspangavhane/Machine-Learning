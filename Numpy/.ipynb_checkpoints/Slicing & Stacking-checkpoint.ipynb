{
 "cells": [
  {
   "cell_type": "code",
   "execution_count": 1,
   "id": "b7fbfa3b-0300-4ffc-ba63-5b5ea5974ab0",
   "metadata": {},
   "outputs": [],
   "source": [
    "import numpy as np"
   ]
  },
  {
   "cell_type": "code",
   "execution_count": 2,
   "id": "b162fac7-57d0-44fb-9a17-ea1b42f385e6",
   "metadata": {},
   "outputs": [],
   "source": [
    "## customer id and name\n",
    "c=np.array([\n",
    "    [101,\"Mira\"],\n",
    "    [102,\"Ram\"],\n",
    "    [103,\"Ganesh\"]\n",
    "])\n",
    "\n",
    "## Customer id,purchase Amt,purchase date,\n",
    "d=np.array([\n",
    "    [101,250.03,\"2024-03-12\"],\n",
    "    [102,130.06,\"2024-03-13\"],\n",
    "    [101,300.03,\"2024-03-14\"]\n",
    "])"
   ]
  },
  {
   "cell_type": "code",
   "execution_count": 3,
   "id": "149c818d-c4a8-431d-9791-fb59a7c44a7b",
   "metadata": {},
   "outputs": [
    {
     "data": {
      "text/plain": [
       "array([['101', 'Mira', '101', '250.03', '2024-03-12'],\n",
       "       ['102', 'Ram', '102', '130.06', '2024-03-13'],\n",
       "       ['103', 'Ganesh', '101', '300.03', '2024-03-14']], dtype='<U32')"
      ]
     },
     "execution_count": 3,
     "metadata": {},
     "output_type": "execute_result"
    }
   ],
   "source": [
    "np.hstack((c,d))            ## put that 2 stack together horizontally"
   ]
  },
  {
   "cell_type": "code",
   "execution_count": 4,
   "id": "530978e1-b4a3-496f-aeb3-a8bc7fd1eee8",
   "metadata": {},
   "outputs": [
    {
     "data": {
      "text/plain": [
       "array([['101', 'Mira'],\n",
       "       ['102', 'Ram'],\n",
       "       ['103', 'Ganesh']], dtype='<U21')"
      ]
     },
     "execution_count": 4,
     "metadata": {},
     "output_type": "execute_result"
    }
   ],
   "source": [
    "c"
   ]
  },
  {
   "cell_type": "code",
   "execution_count": 5,
   "id": "a7e01018-2e35-44e4-8fa9-7db788fa1d6e",
   "metadata": {},
   "outputs": [
    {
     "data": {
      "text/plain": [
       "array([['104', 'John'],\n",
       "       ['105', 'Sham'],\n",
       "       ['106', 'Harry']], dtype='<U21')"
      ]
     },
     "execution_count": 5,
     "metadata": {},
     "output_type": "execute_result"
    }
   ],
   "source": [
    "e=np.array([\n",
    "    [104,\"John\"],\n",
    "    [105,\"Sham\"],\n",
    "    [106,\"Harry\"]\n",
    "])\n",
    "e"
   ]
  },
  {
   "cell_type": "code",
   "execution_count": 6,
   "id": "6181e479-fc48-4df3-9fb7-42556813cf0e",
   "metadata": {},
   "outputs": [
    {
     "data": {
      "text/plain": [
       "array([['101', 'Mira'],\n",
       "       ['102', 'Ram'],\n",
       "       ['103', 'Ganesh'],\n",
       "       ['104', 'John'],\n",
       "       ['105', 'Sham'],\n",
       "       ['106', 'Harry']], dtype='<U21')"
      ]
     },
     "execution_count": 6,
     "metadata": {},
     "output_type": "execute_result"
    }
   ],
   "source": [
    "np.vstack((c,e))     ## arrange two things vertically but here the data shuld be in same manner"
   ]
  },
  {
   "cell_type": "code",
   "execution_count": 7,
   "id": "6e8bd419-7876-42bb-b6fe-af6e3cc2c0fa",
   "metadata": {},
   "outputs": [
    {
     "data": {
      "text/plain": [
       "array([['101', 'Mira', '250.03', '2024-03-12'],\n",
       "       ['102', 'Ram', '130.06', '2024-03-13'],\n",
       "       ['103', 'Ganesh', '300.03', '2024-03-14']], dtype='<U10')"
      ]
     },
     "execution_count": 7,
     "metadata": {},
     "output_type": "execute_result"
    }
   ],
   "source": [
    "f=np.array([['101', 'Mira', '250.03', '2024-03-12'],\n",
    "       ['102', 'Ram', '130.06', '2024-03-13'],\n",
    "       ['103', 'Ganesh', '300.03', '2024-03-14']])\n",
    "f"
   ]
  },
  {
   "cell_type": "code",
   "execution_count": 8,
   "id": "079b64a9-79f2-45e8-bb19-cf5354cee957",
   "metadata": {},
   "outputs": [
    {
     "data": {
      "text/plain": [
       "[array([['101', 'Mira', '250.03'],\n",
       "        ['102', 'Ram', '130.06'],\n",
       "        ['103', 'Ganesh', '300.03']], dtype='<U10'),\n",
       " array([['2024-03-12'],\n",
       "        ['2024-03-13'],\n",
       "        ['2024-03-14']], dtype='<U10')]"
      ]
     },
     "execution_count": 8,
     "metadata": {},
     "output_type": "execute_result"
    }
   ],
   "source": [
    "## spliting\n",
    "np.hsplit(f,[3])           ## split things from col 3"
   ]
  },
  {
   "cell_type": "code",
   "execution_count": 9,
   "id": "833b3fdb-fb3e-4987-a2ff-5da9d36f214c",
   "metadata": {},
   "outputs": [
    {
     "data": {
      "text/plain": [
       "[array([['101', 'Mira', '250.03', '2024-03-12']], dtype='<U10'),\n",
       " array([['102', 'Ram', '130.06', '2024-03-13'],\n",
       "        ['103', 'Ganesh', '300.03', '2024-03-14']], dtype='<U10')]"
      ]
     },
     "execution_count": 9,
     "metadata": {},
     "output_type": "execute_result"
    }
   ],
   "source": [
    "np.vsplit(f,[1])           ## split things from row 1"
   ]
  },
  {
   "cell_type": "code",
   "execution_count": 10,
   "id": "b92f8e72-f564-4b64-b4e9-1c14357f882d",
   "metadata": {},
   "outputs": [],
   "source": [
    "## to store that things\n",
    "x,y=np.vsplit(f,[1])  "
   ]
  },
  {
   "cell_type": "code",
   "execution_count": 11,
   "id": "adf5463b-929b-4bac-a02d-c17e48bf38d7",
   "metadata": {},
   "outputs": [
    {
     "data": {
      "text/plain": [
       "array([['101', 'Mira', '250.03', '2024-03-12']], dtype='<U10')"
      ]
     },
     "execution_count": 11,
     "metadata": {},
     "output_type": "execute_result"
    }
   ],
   "source": [
    "x"
   ]
  },
  {
   "cell_type": "code",
   "execution_count": 12,
   "id": "a4ce7d7c-a867-452e-aff3-23b577499e53",
   "metadata": {},
   "outputs": [
    {
     "data": {
      "text/plain": [
       "array([['102', 'Ram', '130.06', '2024-03-13'],\n",
       "       ['103', 'Ganesh', '300.03', '2024-03-14']], dtype='<U10')"
      ]
     },
     "execution_count": 12,
     "metadata": {},
     "output_type": "execute_result"
    }
   ],
   "source": [
    "y"
   ]
  },
  {
   "cell_type": "code",
   "execution_count": 13,
   "id": "e3f68098-c9df-452e-b80c-6e3662ace32d",
   "metadata": {},
   "outputs": [
    {
     "data": {
      "text/plain": [
       "array([ True,  True, False, False])"
      ]
     },
     "execution_count": 13,
     "metadata": {},
     "output_type": "execute_result"
    }
   ],
   "source": [
    "## check revenue\n",
    "month_salary=np.array([12,13,45,22])     ## check revenue\n",
    "result=month_salary<20\n",
    "result"
   ]
  },
  {
   "cell_type": "code",
   "execution_count": 14,
   "id": "11543e48-1e19-4325-8eff-069014ac7615",
   "metadata": {},
   "outputs": [
    {
     "data": {
      "text/plain": [
       "array([12, 13])"
      ]
     },
     "execution_count": 14,
     "metadata": {},
     "output_type": "execute_result"
    }
   ],
   "source": [
    "month_salary[result]    "
   ]
  },
  {
   "cell_type": "code",
   "execution_count": 15,
   "id": "65367561-1e4f-47d1-aaa7-cf883e09caca",
   "metadata": {},
   "outputs": [
    {
     "data": {
      "text/plain": [
       "np.int64(45)"
      ]
     },
     "execution_count": 15,
     "metadata": {},
     "output_type": "execute_result"
    }
   ],
   "source": [
    "month_salary.max()      ## give maximum number"
   ]
  },
  {
   "cell_type": "code",
   "execution_count": 16,
   "id": "1868bad8-c0ad-4fd2-9e67-d91a4885b208",
   "metadata": {},
   "outputs": [
    {
     "data": {
      "text/plain": [
       "np.int64(2)"
      ]
     },
     "execution_count": 16,
     "metadata": {},
     "output_type": "execute_result"
    }
   ],
   "source": [
    "## for the index of maximum number\n",
    "month_salary.argmax()"
   ]
  },
  {
   "cell_type": "code",
   "execution_count": 18,
   "id": "24adb0b1-6ff2-42aa-ad77-1590e799371b",
   "metadata": {},
   "outputs": [
    {
     "data": {
      "text/plain": [
       "np.int64(2)"
      ]
     },
     "execution_count": 18,
     "metadata": {},
     "output_type": "execute_result"
    }
   ],
   "source": [
    "## or same as above\n",
    "np.argmax(month_salary)"
   ]
  },
  {
   "cell_type": "code",
   "execution_count": 19,
   "id": "bce3c9e6-5629-4ab6-a795-05c6af4cf0e7",
   "metadata": {},
   "outputs": [
    {
     "data": {
      "text/plain": [
       "array([['101', 'Mira', '250.03', '2024-03-12'],\n",
       "       ['102', 'Ram', '130.06', '2024-03-13'],\n",
       "       ['103', 'Ganesh', '300.03', '2024-03-14']], dtype='<U10')"
      ]
     },
     "execution_count": 19,
     "metadata": {},
     "output_type": "execute_result"
    }
   ],
   "source": [
    "f"
   ]
  },
  {
   "cell_type": "code",
   "execution_count": 24,
   "id": "71cf584f-f369-4e41-b771-29270bf2d636",
   "metadata": {},
   "outputs": [
    {
     "data": {
      "text/plain": [
       "np.int64(2)"
      ]
     },
     "execution_count": 24,
     "metadata": {},
     "output_type": "execute_result"
    }
   ],
   "source": [
    "## here data type is string/ unicode so make it in float for that and find maximum in 2nd row\n",
    "np.argmax(f[:,2].astype(float))"
   ]
  },
  {
   "cell_type": "code",
   "execution_count": null,
   "id": "1dcae625-9596-48fe-acf5-45abab5fd085",
   "metadata": {},
   "outputs": [],
   "source": []
  }
 ],
 "metadata": {
  "kernelspec": {
   "display_name": "Python 3 (ipykernel)",
   "language": "python",
   "name": "python3"
  },
  "language_info": {
   "codemirror_mode": {
    "name": "ipython",
    "version": 3
   },
   "file_extension": ".py",
   "mimetype": "text/x-python",
   "name": "python",
   "nbconvert_exporter": "python",
   "pygments_lexer": "ipython3",
   "version": "3.12.4"
  }
 },
 "nbformat": 4,
 "nbformat_minor": 5
}
