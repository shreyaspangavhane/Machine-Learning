{
 "cells": [
  {
   "cell_type": "code",
   "execution_count": 3,
   "id": "2c38a947-b062-4219-a5c4-898140ff49e7",
   "metadata": {},
   "outputs": [],
   "source": [
    "import numpy as np"
   ]
  },
  {
   "cell_type": "code",
   "execution_count": 8,
   "id": "3aad31f4-269d-4daf-a9a3-1ee9aa3b2c06",
   "metadata": {},
   "outputs": [],
   "source": [
    "# Sales data \n",
    "d1=np.array([        #quator 1\n",
    "    [200,220,250],     # product A\n",
    "    [150,180,210],     # product B\n",
    "    [300,330,360]      # product C\n",
    "])\n",
    "\n",
    "d2=np.array([        #quator 2\n",
    "    [209,231,256],     # product A\n",
    "    [155,192,222],     # product B\n",
    "    [310,340,375]      # product C\n",
    "])"
   ]
  },
  {
   "cell_type": "code",
   "execution_count": 9,
   "id": "0da994d1-38c0-4081-8634-2268f8b8138c",
   "metadata": {},
   "outputs": [
    {
     "data": {
      "text/plain": [
       "array([[409, 451, 506],\n",
       "       [305, 372, 432],\n",
       "       [610, 670, 735]])"
      ]
     },
     "execution_count": 9,
     "metadata": {},
     "output_type": "execute_result"
    }
   ],
   "source": [
    "## ADDITION\n",
    "d1+d2"
   ]
  },
  {
   "cell_type": "code",
   "execution_count": 11,
   "id": "ed153b10-782f-43ba-bec6-5b57ed23dcfa",
   "metadata": {},
   "outputs": [
    {
     "data": {
      "text/plain": [
       "array([[4.5       , 5.        , 2.4       ],\n",
       "       [3.33333333, 6.66666667, 5.71428571],\n",
       "       [3.33333333, 3.03030303, 4.16666667]])"
      ]
     },
     "execution_count": 11,
     "metadata": {},
     "output_type": "execute_result"
    }
   ],
   "source": [
    "# calculate the Growth of data\n",
    "(d2-d1)*100/d1"
   ]
  },
  {
   "cell_type": "code",
   "execution_count": 12,
   "id": "0f1903cd-97dd-4c7a-8af4-5b7ade03c589",
   "metadata": {},
   "outputs": [],
   "source": [
    "prices=np.array([\n",
    "    [10,12,17],         ## Prices of product 1 in different countries \n",
    "    [9,8,12],           ## Prices of product 1 in different countries \n",
    "    [10,12,11]          ## Prices of product 1 in different countries \n",
    "])"
   ]
  },
  {
   "cell_type": "code",
   "execution_count": 15,
   "id": "2acb27b3-66e3-43f9-8b61-df14d8191f4d",
   "metadata": {},
   "outputs": [
    {
     "data": {
      "text/plain": [
       "array([[2000, 2640, 4250],\n",
       "       [1350, 1440, 2520],\n",
       "       [3000, 3960, 3960]])"
      ]
     },
     "execution_count": 15,
     "metadata": {},
     "output_type": "execute_result"
    }
   ],
   "source": [
    "d1_revenue=d1*prices         ## cal revenue\n",
    "d1_revenue"
   ]
  },
  {
   "cell_type": "code",
   "execution_count": 16,
   "id": "591b68ee-e0df-45b5-90a8-d2cf70fc7e2f",
   "metadata": {},
   "outputs": [
    {
     "data": {
      "text/plain": [
       "array([[400., 528., 850.],\n",
       "       [270., 288., 504.],\n",
       "       [600., 792., 792.]])"
      ]
     },
     "execution_count": 16,
     "metadata": {},
     "output_type": "execute_result"
    }
   ],
   "source": [
    "## if 20% discount is given\n",
    "d1_discount=d1_revenue*0.2\n",
    "d1_discount"
   ]
  },
  {
   "cell_type": "code",
   "execution_count": 18,
   "id": "ea7acf62-143a-4c71-823e-0b244819b86e",
   "metadata": {},
   "outputs": [
    {
     "data": {
      "text/plain": [
       "array([[1600., 2112., 3400.],\n",
       "       [1080., 1152., 2016.],\n",
       "       [2400., 3168., 3168.]])"
      ]
     },
     "execution_count": 18,
     "metadata": {},
     "output_type": "execute_result"
    }
   ],
   "source": [
    "## Cal net revenue\n",
    "net_revenue=d1_revenue-d1_discount\n",
    "net_revenue"
   ]
  },
  {
   "cell_type": "code",
   "execution_count": 20,
   "id": "0c23718a-b278-442e-8c70-784f3841a1eb",
   "metadata": {},
   "outputs": [
    {
     "data": {
      "text/plain": [
       "np.float64(5024.0)"
      ]
     },
     "execution_count": 20,
     "metadata": {},
     "output_type": "execute_result"
    }
   ],
   "source": [
    "## Cal total discount in quator 1\n",
    "np.sum(d1_discount)"
   ]
  },
  {
   "cell_type": "code",
   "execution_count": 23,
   "id": "a8a56f9a-0ed3-4413-8a88-6ba584b29751",
   "metadata": {},
   "outputs": [
    {
     "data": {
      "text/plain": [
       "array([538000, 984000])"
      ]
     },
     "execution_count": 23,
     "metadata": {},
     "output_type": "execute_result"
    }
   ],
   "source": [
    "## Dot product\n",
    "features=np.array([\n",
    "    [2000,3],        #house 1\n",
    "    [4000,4]        #house 2\n",
    "])\n",
    "wt=np.array([200,46000])\n",
    "## I want to calculate the total amount (i.e features*wt) instead of doing manually use dot product\n",
    "np.dot(features,wt)\n",
    "\n"
   ]
  },
  {
   "cell_type": "code",
   "execution_count": 24,
   "id": "0868a647-5d78-4e2e-ad10-0380a4a6e9fb",
   "metadata": {},
   "outputs": [
    {
     "data": {
      "text/plain": [
       "array([  6,  22, -20])"
      ]
     },
     "execution_count": 24,
     "metadata": {},
     "output_type": "execute_result"
    }
   ],
   "source": [
    "## Cross Product\n",
    "a1=np.array([2,4,5])\n",
    "a2=np.array([6,2,4])\n",
    "np.cross(a1,a2)"
   ]
  },
  {
   "cell_type": "code",
   "execution_count": null,
   "id": "21f52713-558e-4a0f-9dc9-089fa798c8ee",
   "metadata": {},
   "outputs": [],
   "source": []
  }
 ],
 "metadata": {
  "kernelspec": {
   "display_name": "Python 3 (ipykernel)",
   "language": "python",
   "name": "python3"
  },
  "language_info": {
   "codemirror_mode": {
    "name": "ipython",
    "version": 3
   },
   "file_extension": ".py",
   "mimetype": "text/x-python",
   "name": "python",
   "nbconvert_exporter": "python",
   "pygments_lexer": "ipython3",
   "version": "3.12.4"
  }
 },
 "nbformat": 4,
 "nbformat_minor": 5
}
