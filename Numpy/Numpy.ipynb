{
 "cells": [
  {
   "cell_type": "markdown",
   "id": "dc573afc-249c-41aa-920b-78eb71146eb7",
   "metadata": {},
   "source": [
    "# Numpy Tutorial"
   ]
  },
  {
   "cell_type": "markdown",
   "id": "47d1f23f-a4cc-4175-8d18-a33f29c18450",
   "metadata": {},
   "source": [
    "**Array is the data structure that store the same data type element. \n",
    "differnce between array and list, list store differnent data type of the element but array store element with same data type** "
   ]
  },
  {
   "cell_type": "code",
   "execution_count": 1,
   "id": "24d5c224-dae9-4d3d-82fe-55f35801cecf",
   "metadata": {},
   "outputs": [],
   "source": [
    "import numpy as np               #import numpy lib"
   ]
  },
  {
   "cell_type": "markdown",
   "id": "e2359ab2-a90b-4adb-a056-f5520c371870",
   "metadata": {},
   "source": [
    "# 1D array"
   ]
  },
  {
   "cell_type": "code",
   "execution_count": 2,
   "id": "1684777f-6d7e-47c6-a046-b2537101d584",
   "metadata": {},
   "outputs": [],
   "source": [
    "myarray=np.array([[1,43,23,67,19]],np.int8)       #use array using numpy"
   ]
  },
  {
   "cell_type": "code",
   "execution_count": 3,
   "id": "7ec800c8-3ed9-41b9-9b95-9609c218e6a8",
   "metadata": {},
   "outputs": [
    {
     "data": {
      "text/plain": [
       "array([[ 1, 43, 23, 67, 19]], dtype=int8)"
      ]
     },
     "execution_count": 3,
     "metadata": {},
     "output_type": "execute_result"
    }
   ],
   "source": [
    "myarray"
   ]
  },
  {
   "cell_type": "code",
   "execution_count": 4,
   "id": "50b8c064-d24f-418e-bcc4-87ffd88a13f8",
   "metadata": {},
   "outputs": [
    {
     "data": {
      "text/plain": [
       "np.int8(67)"
      ]
     },
     "execution_count": 4,
     "metadata": {},
     "output_type": "execute_result"
    }
   ],
   "source": [
    "myarray[0,3]"
   ]
  },
  {
   "cell_type": "code",
   "execution_count": 5,
   "id": "771b5fe0-4046-487c-86b5-dff7f584fdcf",
   "metadata": {},
   "outputs": [
    {
     "data": {
      "text/plain": [
       "np.int8(43)"
      ]
     },
     "execution_count": 5,
     "metadata": {},
     "output_type": "execute_result"
    }
   ],
   "source": [
    "myarray[0,1]"
   ]
  },
  {
   "cell_type": "code",
   "execution_count": 6,
   "id": "dddadd1d-c915-4ac6-8953-5a91754f00b7",
   "metadata": {},
   "outputs": [
    {
     "data": {
      "text/plain": [
       "(1, 5)"
      ]
     },
     "execution_count": 6,
     "metadata": {},
     "output_type": "execute_result"
    }
   ],
   "source": [
    "myarray.shape"
   ]
  },
  {
   "cell_type": "code",
   "execution_count": 7,
   "id": "fd2b988a-784d-4d05-8e20-c4fe4690095e",
   "metadata": {},
   "outputs": [
    {
     "data": {
      "text/plain": [
       "dtype('int8')"
      ]
     },
     "execution_count": 7,
     "metadata": {},
     "output_type": "execute_result"
    }
   ],
   "source": [
    "myarray.dtype"
   ]
  },
  {
   "cell_type": "code",
   "execution_count": 8,
   "id": "1e5d3f04-a034-48a4-926b-683a9b105839",
   "metadata": {},
   "outputs": [],
   "source": [
    "myarray[0,1]=100"
   ]
  },
  {
   "cell_type": "code",
   "execution_count": 9,
   "id": "26f1ab6f-580a-441a-a474-5d694a987d82",
   "metadata": {},
   "outputs": [
    {
     "data": {
      "text/plain": [
       "array([[  1, 100,  23,  67,  19]], dtype=int8)"
      ]
     },
     "execution_count": 9,
     "metadata": {},
     "output_type": "execute_result"
    }
   ],
   "source": [
    "myarray"
   ]
  },
  {
   "cell_type": "code",
   "execution_count": 10,
   "id": "70c7e0fe-57ad-440a-ae8d-0f131d4033ae",
   "metadata": {},
   "outputs": [
    {
     "data": {
      "text/plain": [
       "np.int8(1)"
      ]
     },
     "execution_count": 10,
     "metadata": {},
     "output_type": "execute_result"
    }
   ],
   "source": [
    "myarray[0,0]"
   ]
  },
  {
   "cell_type": "code",
   "execution_count": 11,
   "id": "e344f9cb-00c4-4139-9afe-10a8caed6be4",
   "metadata": {},
   "outputs": [
    {
     "data": {
      "text/plain": [
       "array([[  1, 100,  23,  67,  19]], dtype=int8)"
      ]
     },
     "execution_count": 11,
     "metadata": {},
     "output_type": "execute_result"
    }
   ],
   "source": [
    "myarray"
   ]
  },
  {
   "cell_type": "markdown",
   "id": "d1ac2241-bfa3-4e60-adb8-19b997e787cf",
   "metadata": {},
   "source": [
    "# 2D Array Creation"
   ]
  },
  {
   "cell_type": "code",
   "execution_count": 12,
   "id": "8803d21d-4fec-41ea-a644-ec970601c93f",
   "metadata": {},
   "outputs": [],
   "source": [
    "larr=np.array([[1,2,3,4,2],[5,3,7,4,8],[6,2,3,6,2]])           #create the 3row 5 col array of 2D"
   ]
  },
  {
   "cell_type": "code",
   "execution_count": 13,
   "id": "b2029fca-bd9f-4267-9af9-3f30caa1fa01",
   "metadata": {},
   "outputs": [
    {
     "data": {
      "text/plain": [
       "array([[1, 2, 3, 4, 2],\n",
       "       [5, 3, 7, 4, 8],\n",
       "       [6, 2, 3, 6, 2]])"
      ]
     },
     "execution_count": 13,
     "metadata": {},
     "output_type": "execute_result"
    }
   ],
   "source": [
    "larr"
   ]
  },
  {
   "cell_type": "code",
   "execution_count": 14,
   "id": "e5525cdf-a778-4df9-bd44-4186940d62eb",
   "metadata": {},
   "outputs": [
    {
     "data": {
      "text/plain": [
       "dtype('int64')"
      ]
     },
     "execution_count": 14,
     "metadata": {},
     "output_type": "execute_result"
    }
   ],
   "source": [
    "larr.dtype"
   ]
  },
  {
   "cell_type": "code",
   "execution_count": 15,
   "id": "62349066-3af1-424f-893f-de655049c01d",
   "metadata": {},
   "outputs": [
    {
     "data": {
      "text/plain": [
       "(3, 5)"
      ]
     },
     "execution_count": 15,
     "metadata": {},
     "output_type": "execute_result"
    }
   ],
   "source": [
    "larr.shape"
   ]
  },
  {
   "cell_type": "code",
   "execution_count": 16,
   "id": "68745df5-9c70-4590-8f3e-f87eeb118a42",
   "metadata": {},
   "outputs": [
    {
     "data": {
      "text/plain": [
       "array([[1, 2, 3],\n",
       "       [4, 2, 5],\n",
       "       [3, 7, 4],\n",
       "       [8, 6, 2],\n",
       "       [3, 6, 2]])"
      ]
     },
     "execution_count": 16,
     "metadata": {},
     "output_type": "execute_result"
    }
   ],
   "source": [
    "larr.reshape(5,3)            #only convert 5 by 3 not stored in larr "
   ]
  },
  {
   "cell_type": "code",
   "execution_count": 17,
   "id": "88bdc80d-f36f-40a0-97a3-d9fdcf373deb",
   "metadata": {},
   "outputs": [
    {
     "data": {
      "text/plain": [
       "15"
      ]
     },
     "execution_count": 17,
     "metadata": {},
     "output_type": "execute_result"
    }
   ],
   "source": [
    "larr.size"
   ]
  },
  {
   "cell_type": "code",
   "execution_count": 18,
   "id": "ffc9fa81-f10c-45a4-bd59-eb597e94889c",
   "metadata": {},
   "outputs": [
    {
     "data": {
      "text/plain": [
       "array([[1, 2, 3, 4, 2],\n",
       "       [5, 3, 7, 4, 8],\n",
       "       [6, 2, 3, 6, 2]])"
      ]
     },
     "execution_count": 18,
     "metadata": {},
     "output_type": "execute_result"
    }
   ],
   "source": [
    "larr"
   ]
  },
  {
   "cell_type": "code",
   "execution_count": 19,
   "id": "90d73c0f-595e-462a-8ac4-d278dd0ca3c9",
   "metadata": {},
   "outputs": [
    {
     "data": {
      "text/plain": [
       "8"
      ]
     },
     "execution_count": 19,
     "metadata": {},
     "output_type": "execute_result"
    }
   ],
   "source": [
    "larr.itemsize"
   ]
  },
  {
   "cell_type": "code",
   "execution_count": 20,
   "id": "271e9725-1da8-4274-b26e-ba4ee1688fc3",
   "metadata": {},
   "outputs": [
    {
     "data": {
      "text/plain": [
       "np.int64(2)"
      ]
     },
     "execution_count": 20,
     "metadata": {},
     "output_type": "execute_result"
    }
   ],
   "source": [
    "larr[2,1]"
   ]
  },
  {
   "cell_type": "code",
   "execution_count": 21,
   "id": "152a1e0b-6c3b-4e62-be10-ea1c9a53bfb9",
   "metadata": {},
   "outputs": [],
   "source": [
    "larr[2,1]=45"
   ]
  },
  {
   "cell_type": "code",
   "execution_count": 22,
   "id": "6abc5e54-463f-42a1-bb41-8c80f559c1c3",
   "metadata": {},
   "outputs": [
    {
     "data": {
      "text/plain": [
       "array([[ 1,  2,  3,  4,  2],\n",
       "       [ 5,  3,  7,  4,  8],\n",
       "       [ 6, 45,  3,  6,  2]])"
      ]
     },
     "execution_count": 22,
     "metadata": {},
     "output_type": "execute_result"
    }
   ],
   "source": [
    "larr"
   ]
  },
  {
   "cell_type": "markdown",
   "id": "85d39ea3-f0f2-4703-9eed-0f63425e0493",
   "metadata": {},
   "source": [
    "# Indexing"
   ]
  },
  {
   "cell_type": "code",
   "execution_count": 23,
   "id": "410964b4-2a7b-4808-8597-3de486a6bda4",
   "metadata": {},
   "outputs": [],
   "source": [
    "arr=np.array([[1,2,3,4,2],[5,3,7,4,8],[6,2,3,6,2]])    "
   ]
  },
  {
   "cell_type": "code",
   "execution_count": 24,
   "id": "c94cafe6-ce40-459a-907c-38112709d7be",
   "metadata": {},
   "outputs": [
    {
     "data": {
      "text/plain": [
       "array([[1, 2, 3, 4, 2],\n",
       "       [5, 3, 7, 4, 8],\n",
       "       [6, 2, 3, 6, 2]])"
      ]
     },
     "execution_count": 24,
     "metadata": {},
     "output_type": "execute_result"
    }
   ],
   "source": [
    "arr"
   ]
  },
  {
   "cell_type": "code",
   "execution_count": 25,
   "id": "db4506af-7dfa-45ca-9e4a-7f02ce30787b",
   "metadata": {},
   "outputs": [
    {
     "data": {
      "text/plain": [
       "array([[1, 2, 3, 4, 2],\n",
       "       [5, 3, 7, 4, 8],\n",
       "       [6, 2, 3, 6, 2]])"
      ]
     },
     "execution_count": 25,
     "metadata": {},
     "output_type": "execute_result"
    }
   ],
   "source": [
    "arr[:,:]"
   ]
  },
  {
   "cell_type": "code",
   "execution_count": 26,
   "id": "e1029a0c-ecd3-4b8b-a831-c3dcadeafe03",
   "metadata": {},
   "outputs": [
    {
     "data": {
      "text/plain": [
       "array([[1, 2, 3, 4, 2],\n",
       "       [5, 3, 7, 4, 8]])"
      ]
     },
     "execution_count": 26,
     "metadata": {},
     "output_type": "execute_result"
    }
   ],
   "source": [
    "arr[0:2,:]"
   ]
  },
  {
   "cell_type": "code",
   "execution_count": 27,
   "id": "ca03a907-fe7c-4d92-bca9-7d1ae74539c7",
   "metadata": {},
   "outputs": [
    {
     "data": {
      "text/plain": [
       "array([[1, 2, 3],\n",
       "       [5, 3, 7]])"
      ]
     },
     "execution_count": 27,
     "metadata": {},
     "output_type": "execute_result"
    }
   ],
   "source": [
    "arr[0:2,0:3]"
   ]
  },
  {
   "cell_type": "code",
   "execution_count": 28,
   "id": "88364000-6581-4300-8af1-fd338f49148f",
   "metadata": {},
   "outputs": [
    {
     "data": {
      "text/plain": [
       "array([[4, 2],\n",
       "       [4, 8],\n",
       "       [6, 2]])"
      ]
     },
     "execution_count": 28,
     "metadata": {},
     "output_type": "execute_result"
    }
   ],
   "source": [
    "arr[:,3:]"
   ]
  },
  {
   "cell_type": "code",
   "execution_count": 29,
   "id": "8f446e24-d757-4ceb-a268-f0502e60c8eb",
   "metadata": {},
   "outputs": [
    {
     "data": {
      "text/plain": [
       "array([[6, 2]])"
      ]
     },
     "execution_count": 29,
     "metadata": {},
     "output_type": "execute_result"
    }
   ],
   "source": [
    "arr[2:,3:]"
   ]
  },
  {
   "cell_type": "code",
   "execution_count": 30,
   "id": "c00331fe-f25b-47ed-87cd-7299866d009b",
   "metadata": {},
   "outputs": [],
   "source": [
    "#copy function and Broadcasting\n",
    "arr[:,3:]=100"
   ]
  },
  {
   "cell_type": "code",
   "execution_count": 31,
   "id": "926392e4-8ade-4f58-b3be-774adbd64987",
   "metadata": {},
   "outputs": [
    {
     "data": {
      "text/plain": [
       "array([[  1,   2,   3, 100, 100],\n",
       "       [  5,   3,   7, 100, 100],\n",
       "       [  6,   2,   3, 100, 100]])"
      ]
     },
     "execution_count": 31,
     "metadata": {},
     "output_type": "execute_result"
    }
   ],
   "source": [
    "arr"
   ]
  },
  {
   "cell_type": "markdown",
   "id": "297d38b3-c88e-4975-84a5-022e7054497a",
   "metadata": {},
   "source": [
    "**Copy Function**"
   ]
  },
  {
   "cell_type": "code",
   "execution_count": 32,
   "id": "45186818-a368-442e-b74c-4a0f00572336",
   "metadata": {},
   "outputs": [],
   "source": [
    "arr1=np.array([1,23,4,5,72,44])"
   ]
  },
  {
   "cell_type": "code",
   "execution_count": 33,
   "id": "6fa43653-50c0-485d-804a-278e4a632514",
   "metadata": {},
   "outputs": [],
   "source": [
    "arr2=arr1         #here it will be copy arr1 to arr2 but when we perform any change to arr2 then it also perfrom on arr1"
   ]
  },
  {
   "cell_type": "code",
   "execution_count": 34,
   "id": "e82e386b-38fe-4e6b-9d4b-7fc0efb95bf1",
   "metadata": {},
   "outputs": [
    {
     "data": {
      "text/plain": [
       "array([ 1, 23,  4,  5, 72, 44])"
      ]
     },
     "execution_count": 34,
     "metadata": {},
     "output_type": "execute_result"
    }
   ],
   "source": [
    "arr2"
   ]
  },
  {
   "cell_type": "code",
   "execution_count": 35,
   "id": "e4e807b2-06c2-4ca1-a282-605501b7a2ac",
   "metadata": {},
   "outputs": [],
   "source": [
    "arr2[3:]=100"
   ]
  },
  {
   "cell_type": "code",
   "execution_count": 36,
   "id": "cfd6a4d3-842e-43d4-8844-ac78086b89da",
   "metadata": {},
   "outputs": [
    {
     "data": {
      "text/plain": [
       "array([  1,  23,   4, 100, 100, 100])"
      ]
     },
     "execution_count": 36,
     "metadata": {},
     "output_type": "execute_result"
    }
   ],
   "source": [
    "arr2"
   ]
  },
  {
   "cell_type": "code",
   "execution_count": 37,
   "id": "40c7e736-f470-4a4c-8386-97257a3966af",
   "metadata": {},
   "outputs": [
    {
     "data": {
      "text/plain": [
       "array([  1,  23,   4, 100, 100, 100])"
      ]
     },
     "execution_count": 37,
     "metadata": {},
     "output_type": "execute_result"
    }
   ],
   "source": [
    "arr1"
   ]
  },
  {
   "cell_type": "code",
   "execution_count": 38,
   "id": "1b87b9c5-606b-4ce9-b172-b4d2adc59e75",
   "metadata": {},
   "outputs": [],
   "source": [
    "arr2=arr1.copy()           #here only make arr2 copy of arr1 but there is no any relation between arr2 amd arr1 when performing any operation"
   ]
  },
  {
   "cell_type": "code",
   "execution_count": 39,
   "id": "212a501c-fd3b-4ee1-bdcc-f5a3ffce430e",
   "metadata": {},
   "outputs": [
    {
     "data": {
      "text/plain": [
       "array([  1,  23,   4, 100, 100, 100])"
      ]
     },
     "execution_count": 39,
     "metadata": {},
     "output_type": "execute_result"
    }
   ],
   "source": [
    "arr2"
   ]
  },
  {
   "cell_type": "code",
   "execution_count": 40,
   "id": "3337b5c8-54fe-4e50-9df2-700a8f02efff",
   "metadata": {},
   "outputs": [],
   "source": [
    "arr2[3:]=200"
   ]
  },
  {
   "cell_type": "code",
   "execution_count": 41,
   "id": "922a63b2-6d4e-4971-b554-bbc41d51df21",
   "metadata": {},
   "outputs": [
    {
     "data": {
      "text/plain": [
       "array([  1,  23,   4, 200, 200, 200])"
      ]
     },
     "execution_count": 41,
     "metadata": {},
     "output_type": "execute_result"
    }
   ],
   "source": [
    "arr2"
   ]
  },
  {
   "cell_type": "code",
   "execution_count": 42,
   "id": "b170f27e-05f2-4cd6-8687-31463b2254c0",
   "metadata": {},
   "outputs": [
    {
     "data": {
      "text/plain": [
       "array([  1,  23,   4, 100, 100, 100])"
      ]
     },
     "execution_count": 42,
     "metadata": {},
     "output_type": "execute_result"
    }
   ],
   "source": [
    "arr1"
   ]
  },
  {
   "cell_type": "markdown",
   "id": "cade80c1-6073-4eb8-82e0-69dd73275f34",
   "metadata": {},
   "source": [
    "# Intrinsic numpy array creation object (Ones/Zeros)"
   ]
  },
  {
   "cell_type": "code",
   "execution_count": 43,
   "id": "979fc920-eaf1-4ac5-863a-4fc2ae738fb7",
   "metadata": {},
   "outputs": [],
   "source": [
    "zeros=np.zeros((3,4))"
   ]
  },
  {
   "cell_type": "code",
   "execution_count": 44,
   "id": "bb6d6e5c-2671-46dd-a0b9-57741875c20a",
   "metadata": {},
   "outputs": [
    {
     "data": {
      "text/plain": [
       "array([[0., 0., 0., 0.],\n",
       "       [0., 0., 0., 0.],\n",
       "       [0., 0., 0., 0.]])"
      ]
     },
     "execution_count": 44,
     "metadata": {},
     "output_type": "execute_result"
    }
   ],
   "source": [
    "zeros"
   ]
  },
  {
   "cell_type": "code",
   "execution_count": 45,
   "id": "ba82ca72-8bde-4381-bc8a-b770948178a7",
   "metadata": {},
   "outputs": [
    {
     "data": {
      "text/plain": [
       "dtype('float64')"
      ]
     },
     "execution_count": 45,
     "metadata": {},
     "output_type": "execute_result"
    }
   ],
   "source": [
    "zeros.dtype"
   ]
  },
  {
   "cell_type": "code",
   "execution_count": 46,
   "id": "a2de401b-e1e0-4221-b923-dc23149a5e6c",
   "metadata": {},
   "outputs": [],
   "source": [
    "range=np.arange(20)       #act like as for loop"
   ]
  },
  {
   "cell_type": "code",
   "execution_count": 47,
   "id": "3fee05cb-690f-4364-bdb6-723e2e90df4f",
   "metadata": {},
   "outputs": [
    {
     "data": {
      "text/plain": [
       "array([ 0,  1,  2,  3,  4,  5,  6,  7,  8,  9, 10, 11, 12, 13, 14, 15, 16,\n",
       "       17, 18, 19])"
      ]
     },
     "execution_count": 47,
     "metadata": {},
     "output_type": "execute_result"
    }
   ],
   "source": [
    "range"
   ]
  },
  {
   "cell_type": "code",
   "execution_count": 48,
   "id": "1bbba4e3-851a-4211-971a-4cbf74622794",
   "metadata": {},
   "outputs": [],
   "source": [
    "range=np.arange(5,14)"
   ]
  },
  {
   "cell_type": "code",
   "execution_count": 49,
   "id": "9a55eebe-a7bb-4939-832f-5d5acc81ef54",
   "metadata": {},
   "outputs": [
    {
     "data": {
      "text/plain": [
       "array([ 5,  6,  7,  8,  9, 10, 11, 12, 13])"
      ]
     },
     "execution_count": 49,
     "metadata": {},
     "output_type": "execute_result"
    }
   ],
   "source": [
    "range"
   ]
  },
  {
   "cell_type": "code",
   "execution_count": 50,
   "id": "81ac5b0b-36b5-429b-87ff-6195cba405bf",
   "metadata": {},
   "outputs": [],
   "source": [
    "range1=np.arange(1,21).reshape(4,5)"
   ]
  },
  {
   "cell_type": "code",
   "execution_count": 51,
   "id": "6d28f857-f1b6-4e2b-b015-d0ac872c769d",
   "metadata": {},
   "outputs": [
    {
     "data": {
      "text/plain": [
       "array([[ 1,  2,  3,  4,  5],\n",
       "       [ 6,  7,  8,  9, 10],\n",
       "       [11, 12, 13, 14, 15],\n",
       "       [16, 17, 18, 19, 20]])"
      ]
     },
     "execution_count": 51,
     "metadata": {},
     "output_type": "execute_result"
    }
   ],
   "source": [
    "range1"
   ]
  },
  {
   "cell_type": "code",
   "execution_count": 52,
   "id": "0756aede-c141-4b22-96ef-3bdef4320493",
   "metadata": {},
   "outputs": [],
   "source": [
    "lspace=np.linspace(1,13,4)             #act like as loop(start,end,step)"
   ]
  },
  {
   "cell_type": "code",
   "execution_count": 53,
   "id": "53d1c637-e13f-4f00-9efd-645988febd38",
   "metadata": {},
   "outputs": [
    {
     "data": {
      "text/plain": [
       "array([ 1.,  5.,  9., 13.])"
      ]
     },
     "execution_count": 53,
     "metadata": {},
     "output_type": "execute_result"
    }
   ],
   "source": [
    "lspace"
   ]
  },
  {
   "cell_type": "code",
   "execution_count": 54,
   "id": "2b7fc369-d981-4054-b2fe-487ce9a2d2a8",
   "metadata": {},
   "outputs": [],
   "source": [
    "ety=np.empty((2,3))             #make empty of 2,3 array"
   ]
  },
  {
   "cell_type": "code",
   "execution_count": 55,
   "id": "378ac5ab-c738-4db9-ba7c-9a8fe9d5e406",
   "metadata": {},
   "outputs": [
    {
     "data": {
      "text/plain": [
       "array([[6.23042070e-307, 4.67296746e-307, 1.69121096e-306],\n",
       "       [4.67289956e-307, 2.67017691e-306, 2.42092166e-322]])"
      ]
     },
     "execution_count": 55,
     "metadata": {},
     "output_type": "execute_result"
    }
   ],
   "source": [
    "ety"
   ]
  },
  {
   "cell_type": "code",
   "execution_count": 56,
   "id": "9d73620e-b310-4601-9803-0d1367a54f7e",
   "metadata": {},
   "outputs": [],
   "source": [
    "emty_like=np.empty_like(lspace)"
   ]
  },
  {
   "cell_type": "code",
   "execution_count": 57,
   "id": "2a4c2329-29ce-4dab-9de5-b55cafc6e9af",
   "metadata": {},
   "outputs": [
    {
     "data": {
      "text/plain": [
       "array([ 1.,  5.,  9., 13.])"
      ]
     },
     "execution_count": 57,
     "metadata": {},
     "output_type": "execute_result"
    }
   ],
   "source": [
    "emty_like"
   ]
  },
  {
   "cell_type": "code",
   "execution_count": 58,
   "id": "2bf4447b-ffaa-44ab-9dba-f3b8b9d6de2c",
   "metadata": {},
   "outputs": [],
   "source": [
    "ide=np.identity(12)        "
   ]
  },
  {
   "cell_type": "code",
   "execution_count": 59,
   "id": "fb154f33-d7b5-438f-a18d-7201ce561f4f",
   "metadata": {},
   "outputs": [
    {
     "data": {
      "text/plain": [
       "array([[1., 0., 0., 0., 0., 0., 0., 0., 0., 0., 0., 0.],\n",
       "       [0., 1., 0., 0., 0., 0., 0., 0., 0., 0., 0., 0.],\n",
       "       [0., 0., 1., 0., 0., 0., 0., 0., 0., 0., 0., 0.],\n",
       "       [0., 0., 0., 1., 0., 0., 0., 0., 0., 0., 0., 0.],\n",
       "       [0., 0., 0., 0., 1., 0., 0., 0., 0., 0., 0., 0.],\n",
       "       [0., 0., 0., 0., 0., 1., 0., 0., 0., 0., 0., 0.],\n",
       "       [0., 0., 0., 0., 0., 0., 1., 0., 0., 0., 0., 0.],\n",
       "       [0., 0., 0., 0., 0., 0., 0., 1., 0., 0., 0., 0.],\n",
       "       [0., 0., 0., 0., 0., 0., 0., 0., 1., 0., 0., 0.],\n",
       "       [0., 0., 0., 0., 0., 0., 0., 0., 0., 1., 0., 0.],\n",
       "       [0., 0., 0., 0., 0., 0., 0., 0., 0., 0., 1., 0.],\n",
       "       [0., 0., 0., 0., 0., 0., 0., 0., 0., 0., 0., 1.]])"
      ]
     },
     "execution_count": 59,
     "metadata": {},
     "output_type": "execute_result"
    }
   ],
   "source": [
    "ide"
   ]
  },
  {
   "cell_type": "code",
   "execution_count": 60,
   "id": "41c13d87-645f-49b3-bfaf-7e96f1bc1a26",
   "metadata": {},
   "outputs": [
    {
     "data": {
      "text/plain": [
       "(12, 12)"
      ]
     },
     "execution_count": 60,
     "metadata": {},
     "output_type": "execute_result"
    }
   ],
   "source": [
    "ide.shape"
   ]
  },
  {
   "cell_type": "code",
   "execution_count": 61,
   "id": "8a4d1b53-783d-4875-84f7-c6e4846e933a",
   "metadata": {},
   "outputs": [],
   "source": [
    "a=np.arange(99)"
   ]
  },
  {
   "cell_type": "code",
   "execution_count": 62,
   "id": "f5c381c6-72fc-449b-a499-f55c09c9cd94",
   "metadata": {},
   "outputs": [
    {
     "data": {
      "text/plain": [
       "array([ 0,  1,  2,  3,  4,  5,  6,  7,  8,  9, 10, 11, 12, 13, 14, 15, 16,\n",
       "       17, 18, 19, 20, 21, 22, 23, 24, 25, 26, 27, 28, 29, 30, 31, 32, 33,\n",
       "       34, 35, 36, 37, 38, 39, 40, 41, 42, 43, 44, 45, 46, 47, 48, 49, 50,\n",
       "       51, 52, 53, 54, 55, 56, 57, 58, 59, 60, 61, 62, 63, 64, 65, 66, 67,\n",
       "       68, 69, 70, 71, 72, 73, 74, 75, 76, 77, 78, 79, 80, 81, 82, 83, 84,\n",
       "       85, 86, 87, 88, 89, 90, 91, 92, 93, 94, 95, 96, 97, 98])"
      ]
     },
     "execution_count": 62,
     "metadata": {},
     "output_type": "execute_result"
    }
   ],
   "source": [
    "a"
   ]
  },
  {
   "cell_type": "code",
   "execution_count": 63,
   "id": "a75d6dae-d4b3-4666-8df3-868c66b93d38",
   "metadata": {},
   "outputs": [],
   "source": [
    "a=a.reshape(3,33)"
   ]
  },
  {
   "cell_type": "code",
   "execution_count": 64,
   "id": "84d4203e-ba78-41b1-b870-daa377a0f569",
   "metadata": {
    "scrolled": true
   },
   "outputs": [
    {
     "data": {
      "text/plain": [
       "array([[ 0,  1,  2,  3,  4,  5,  6,  7,  8,  9, 10, 11, 12, 13, 14, 15,\n",
       "        16, 17, 18, 19, 20, 21, 22, 23, 24, 25, 26, 27, 28, 29, 30, 31,\n",
       "        32],\n",
       "       [33, 34, 35, 36, 37, 38, 39, 40, 41, 42, 43, 44, 45, 46, 47, 48,\n",
       "        49, 50, 51, 52, 53, 54, 55, 56, 57, 58, 59, 60, 61, 62, 63, 64,\n",
       "        65],\n",
       "       [66, 67, 68, 69, 70, 71, 72, 73, 74, 75, 76, 77, 78, 79, 80, 81,\n",
       "        82, 83, 84, 85, 86, 87, 88, 89, 90, 91, 92, 93, 94, 95, 96, 97,\n",
       "        98]])"
      ]
     },
     "execution_count": 64,
     "metadata": {},
     "output_type": "execute_result"
    }
   ],
   "source": [
    "a"
   ]
  },
  {
   "cell_type": "code",
   "execution_count": 65,
   "id": "7af4306b-c409-4644-b627-b1cdb8fe8efe",
   "metadata": {},
   "outputs": [],
   "source": [
    "a=a.ravel()"
   ]
  },
  {
   "cell_type": "code",
   "execution_count": 66,
   "id": "701751f5-2ec7-4b5e-b5ac-b0dbd858c50a",
   "metadata": {},
   "outputs": [
    {
     "data": {
      "text/plain": [
       "array([ 0,  1,  2,  3,  4,  5,  6,  7,  8,  9, 10, 11, 12, 13, 14, 15, 16,\n",
       "       17, 18, 19, 20, 21, 22, 23, 24, 25, 26, 27, 28, 29, 30, 31, 32, 33,\n",
       "       34, 35, 36, 37, 38, 39, 40, 41, 42, 43, 44, 45, 46, 47, 48, 49, 50,\n",
       "       51, 52, 53, 54, 55, 56, 57, 58, 59, 60, 61, 62, 63, 64, 65, 66, 67,\n",
       "       68, 69, 70, 71, 72, 73, 74, 75, 76, 77, 78, 79, 80, 81, 82, 83, 84,\n",
       "       85, 86, 87, 88, 89, 90, 91, 92, 93, 94, 95, 96, 97, 98])"
      ]
     },
     "execution_count": 66,
     "metadata": {},
     "output_type": "execute_result"
    }
   ],
   "source": [
    "a"
   ]
  },
  {
   "cell_type": "code",
   "execution_count": 67,
   "id": "f80725f0-4abe-4c00-ba51-5f58dcae22e2",
   "metadata": {},
   "outputs": [
    {
     "data": {
      "text/plain": [
       "(99,)"
      ]
     },
     "execution_count": 67,
     "metadata": {},
     "output_type": "execute_result"
    }
   ],
   "source": [
    "a.shape"
   ]
  },
  {
   "cell_type": "markdown",
   "id": "ea5ca16a-9ad7-4b61-ae75-35189d61b409",
   "metadata": {},
   "source": [
    "# Axis"
   ]
  },
  {
   "cell_type": "code",
   "execution_count": 68,
   "id": "df6d2624-4eab-454e-bdb5-d4b4950e9a59",
   "metadata": {},
   "outputs": [],
   "source": [
    "a=[[1,2,3],[4,5,6],[7,8,9]]"
   ]
  },
  {
   "cell_type": "code",
   "execution_count": 69,
   "id": "21aea430-b4ce-4ac0-af0f-7425605c00bb",
   "metadata": {},
   "outputs": [],
   "source": [
    "import numpy as np"
   ]
  },
  {
   "cell_type": "code",
   "execution_count": 70,
   "id": "b766f164-a393-49ec-9468-2b2a562e1ab3",
   "metadata": {},
   "outputs": [],
   "source": [
    "ar=np.array(a)"
   ]
  },
  {
   "cell_type": "code",
   "execution_count": 71,
   "id": "6ae8e112-c18d-42b9-9752-3d30cbdcef3b",
   "metadata": {},
   "outputs": [
    {
     "data": {
      "text/plain": [
       "array([[1, 2, 3],\n",
       "       [4, 5, 6],\n",
       "       [7, 8, 9]])"
      ]
     },
     "execution_count": 71,
     "metadata": {},
     "output_type": "execute_result"
    }
   ],
   "source": [
    "ar"
   ]
  },
  {
   "cell_type": "code",
   "execution_count": 72,
   "id": "65e26e24-8ff3-4a6b-a2bf-523187dfa55a",
   "metadata": {},
   "outputs": [
    {
     "data": {
      "text/plain": [
       "array([12, 15, 18])"
      ]
     },
     "execution_count": 72,
     "metadata": {},
     "output_type": "execute_result"
    }
   ],
   "source": [
    "ar.sum(axis=0)"
   ]
  },
  {
   "cell_type": "code",
   "execution_count": 73,
   "id": "33ca1644-5448-443d-8957-428104832bee",
   "metadata": {},
   "outputs": [
    {
     "data": {
      "text/plain": [
       "array([ 6, 15, 24])"
      ]
     },
     "execution_count": 73,
     "metadata": {},
     "output_type": "execute_result"
    }
   ],
   "source": [
    "ar.sum(axis=1)"
   ]
  },
  {
   "cell_type": "code",
   "execution_count": 74,
   "id": "556d1769-dbd7-4a45-8d9f-704544e23a79",
   "metadata": {},
   "outputs": [
    {
     "data": {
      "text/plain": [
       "array([[1, 4, 7],\n",
       "       [2, 5, 8],\n",
       "       [3, 6, 9]])"
      ]
     },
     "execution_count": 74,
     "metadata": {},
     "output_type": "execute_result"
    }
   ],
   "source": [
    "ar.T"
   ]
  },
  {
   "cell_type": "code",
   "execution_count": 75,
   "id": "326a9aaa-fa46-4c99-906a-d5d60def4d3b",
   "metadata": {},
   "outputs": [
    {
     "name": "stdout",
     "output_type": "stream",
     "text": [
      "1\n",
      "2\n",
      "3\n",
      "4\n",
      "5\n",
      "6\n",
      "7\n",
      "8\n",
      "9\n"
     ]
    }
   ],
   "source": [
    "for i in ar.flat:\n",
    "    print(i)"
   ]
  },
  {
   "cell_type": "code",
   "execution_count": 76,
   "id": "099b0928-1f3f-44e2-a852-a08051375b28",
   "metadata": {},
   "outputs": [
    {
     "data": {
      "text/plain": [
       "2"
      ]
     },
     "execution_count": 76,
     "metadata": {},
     "output_type": "execute_result"
    }
   ],
   "source": [
    "ar.ndim"
   ]
  },
  {
   "cell_type": "code",
   "execution_count": 77,
   "id": "a8fee7fc-9a88-407f-9627-bf10c14c16d1",
   "metadata": {},
   "outputs": [
    {
     "data": {
      "text/plain": [
       "72"
      ]
     },
     "execution_count": 77,
     "metadata": {},
     "output_type": "execute_result"
    }
   ],
   "source": [
    "ar.nbytes"
   ]
  },
  {
   "cell_type": "markdown",
   "id": "e233303e-2fe7-4b5a-b4cd-190e1dd6157c",
   "metadata": {},
   "source": [
    "# 1D array Method"
   ]
  },
  {
   "cell_type": "code",
   "execution_count": 78,
   "id": "5d65d7f4-fdd1-492a-9c07-829b17569725",
   "metadata": {},
   "outputs": [],
   "source": [
    "oneD=np.array([1,4,2,7,5,3])"
   ]
  },
  {
   "cell_type": "code",
   "execution_count": 79,
   "id": "53fed09b-79bd-432d-93c9-a15dea9f347c",
   "metadata": {},
   "outputs": [
    {
     "data": {
      "text/plain": [
       "np.int64(3)"
      ]
     },
     "execution_count": 79,
     "metadata": {},
     "output_type": "execute_result"
    }
   ],
   "source": [
    "oneD.argmax()"
   ]
  },
  {
   "cell_type": "code",
   "execution_count": 80,
   "id": "58f5c134-03d5-4ed9-9efe-621a8caefd1c",
   "metadata": {},
   "outputs": [
    {
     "data": {
      "text/plain": [
       "np.int64(0)"
      ]
     },
     "execution_count": 80,
     "metadata": {},
     "output_type": "execute_result"
    }
   ],
   "source": [
    "oneD.argmin()"
   ]
  },
  {
   "cell_type": "code",
   "execution_count": 81,
   "id": "b0883dcc-c308-4e65-8b2b-cef03181a6d1",
   "metadata": {},
   "outputs": [
    {
     "data": {
      "text/plain": [
       "array([0, 2, 5, 1, 4, 3])"
      ]
     },
     "execution_count": 81,
     "metadata": {},
     "output_type": "execute_result"
    }
   ],
   "source": [
    "oneD.argsort()"
   ]
  },
  {
   "cell_type": "code",
   "execution_count": 82,
   "id": "ac48a8d8-7212-4787-9298-4cd1179cf8be",
   "metadata": {},
   "outputs": [
    {
     "data": {
      "text/plain": [
       "array([1, 4, 2, 7, 5, 3])"
      ]
     },
     "execution_count": 82,
     "metadata": {},
     "output_type": "execute_result"
    }
   ],
   "source": [
    "oneD.ravel()"
   ]
  },
  {
   "cell_type": "code",
   "execution_count": 83,
   "id": "bc619221-38f8-4e22-8b89-f0d0c3ebdc41",
   "metadata": {},
   "outputs": [
    {
     "data": {
      "text/plain": [
       "array([[1],\n",
       "       [4],\n",
       "       [2],\n",
       "       [7],\n",
       "       [5],\n",
       "       [3]])"
      ]
     },
     "execution_count": 83,
     "metadata": {},
     "output_type": "execute_result"
    }
   ],
   "source": [
    "oneD.reshape(6,1)"
   ]
  },
  {
   "cell_type": "markdown",
   "id": "8cbad5f1-5c8b-4cf5-98ed-d3d0b565c885",
   "metadata": {},
   "source": [
    "# 2D Array Method"
   ]
  },
  {
   "cell_type": "code",
   "execution_count": 84,
   "id": "70578810-a76a-4551-88a4-47de63b6a8d2",
   "metadata": {},
   "outputs": [],
   "source": [
    "a=np.array([[1,2,3],[4,5,6],[7,1,0]])"
   ]
  },
  {
   "cell_type": "code",
   "execution_count": 85,
   "id": "0ed1edf1-d894-4e99-a53e-6788f6c3b65e",
   "metadata": {},
   "outputs": [
    {
     "data": {
      "text/plain": [
       "np.int64(8)"
      ]
     },
     "execution_count": 85,
     "metadata": {},
     "output_type": "execute_result"
    }
   ],
   "source": [
    "a.argmin()"
   ]
  },
  {
   "cell_type": "code",
   "execution_count": 86,
   "id": "2f2d5d56-e3ef-443c-95d3-6667c3cd5608",
   "metadata": {},
   "outputs": [
    {
     "data": {
      "text/plain": [
       "np.int64(6)"
      ]
     },
     "execution_count": 86,
     "metadata": {},
     "output_type": "execute_result"
    }
   ],
   "source": [
    "a.argmax()"
   ]
  },
  {
   "cell_type": "code",
   "execution_count": 87,
   "id": "56b5dd38-504f-403d-a74e-da4d21bbb63b",
   "metadata": {},
   "outputs": [
    {
     "data": {
      "text/plain": [
       "array([2, 1, 1])"
      ]
     },
     "execution_count": 87,
     "metadata": {},
     "output_type": "execute_result"
    }
   ],
   "source": [
    "a.argmax(axis=0)"
   ]
  },
  {
   "cell_type": "code",
   "execution_count": 88,
   "id": "637748a1-aa78-45f6-bccd-2f7d80f77794",
   "metadata": {},
   "outputs": [
    {
     "data": {
      "text/plain": [
       "array([2, 2, 0])"
      ]
     },
     "execution_count": 88,
     "metadata": {},
     "output_type": "execute_result"
    }
   ],
   "source": [
    "a.argmax(axis=1)"
   ]
  },
  {
   "cell_type": "code",
   "execution_count": 89,
   "id": "ad6c4adf-614e-4f4a-9624-bb011e35911a",
   "metadata": {},
   "outputs": [
    {
     "data": {
      "text/plain": [
       "array([[0, 1, 2],\n",
       "       [0, 1, 2],\n",
       "       [2, 1, 0]])"
      ]
     },
     "execution_count": 89,
     "metadata": {},
     "output_type": "execute_result"
    }
   ],
   "source": [
    "a.argsort(axis=1)"
   ]
  },
  {
   "cell_type": "code",
   "execution_count": 90,
   "id": "e72391d1-f2b5-429a-807a-8e67e3759c17",
   "metadata": {},
   "outputs": [
    {
     "data": {
      "text/plain": [
       "array([[0, 2, 2],\n",
       "       [1, 0, 0],\n",
       "       [2, 1, 1]])"
      ]
     },
     "execution_count": 90,
     "metadata": {},
     "output_type": "execute_result"
    }
   ],
   "source": [
    "a.argsort(axis=0)"
   ]
  },
  {
   "cell_type": "code",
   "execution_count": 91,
   "id": "0c5e7c0f-678b-4990-b5e3-7620f1ea3491",
   "metadata": {},
   "outputs": [
    {
     "data": {
      "text/plain": [
       "array([[1, 2, 3],\n",
       "       [4, 5, 6],\n",
       "       [7, 8, 9]])"
      ]
     },
     "execution_count": 91,
     "metadata": {},
     "output_type": "execute_result"
    }
   ],
   "source": [
    "ar"
   ]
  },
  {
   "cell_type": "code",
   "execution_count": 92,
   "id": "0a406e2e-508b-4679-b80c-e130f03e485a",
   "metadata": {},
   "outputs": [],
   "source": [
    "ar2=np.array([[3, 4, 3],\n",
    "       [23, 11, 2],\n",
    "       [1, 4, 3]])"
   ]
  },
  {
   "cell_type": "code",
   "execution_count": 93,
   "id": "447fd1c8-4d34-4b38-9be9-065636c742db",
   "metadata": {},
   "outputs": [
    {
     "data": {
      "text/plain": [
       "array([[ 3,  4,  3],\n",
       "       [23, 11,  2],\n",
       "       [ 1,  4,  3]])"
      ]
     },
     "execution_count": 93,
     "metadata": {},
     "output_type": "execute_result"
    }
   ],
   "source": [
    "ar2"
   ]
  },
  {
   "cell_type": "code",
   "execution_count": 94,
   "id": "42485e81-b5b3-4870-b926-5ecd86e13578",
   "metadata": {},
   "outputs": [
    {
     "data": {
      "text/plain": [
       "array([[ 4,  6,  6],\n",
       "       [27, 16,  8],\n",
       "       [ 8, 12, 12]])"
      ]
     },
     "execution_count": 94,
     "metadata": {},
     "output_type": "execute_result"
    }
   ],
   "source": [
    "ar+ar2"
   ]
  },
  {
   "cell_type": "code",
   "execution_count": 95,
   "id": "cca0704b-0e85-46ac-af62-88f9de548be3",
   "metadata": {},
   "outputs": [
    {
     "data": {
      "text/plain": [
       "array([[ 3,  8,  9],\n",
       "       [92, 55, 12],\n",
       "       [ 7, 32, 27]])"
      ]
     },
     "execution_count": 95,
     "metadata": {},
     "output_type": "execute_result"
    }
   ],
   "source": [
    "ar*ar2"
   ]
  },
  {
   "cell_type": "code",
   "execution_count": 96,
   "id": "c487c138-4cd8-4c8b-a446-2944a96b8cb1",
   "metadata": {},
   "outputs": [
    {
     "data": {
      "text/plain": [
       "array([[ 1,  2,  3],\n",
       "       [ 4,  5,  6],\n",
       "       [ 7,  8,  9],\n",
       "       [ 3,  4,  3],\n",
       "       [23, 11,  2],\n",
       "       [ 1,  4,  3]])"
      ]
     },
     "execution_count": 96,
     "metadata": {},
     "output_type": "execute_result"
    }
   ],
   "source": [
    "np.vstack((ar,ar2))"
   ]
  },
  {
   "cell_type": "code",
   "execution_count": 97,
   "id": "c87f3aec-5d2d-4d42-b9f5-a1011e9bfc76",
   "metadata": {},
   "outputs": [
    {
     "data": {
      "text/plain": [
       "array([[ 1,  2,  3,  3,  4,  3],\n",
       "       [ 4,  5,  6, 23, 11,  2],\n",
       "       [ 7,  8,  9,  1,  4,  3]])"
      ]
     },
     "execution_count": 97,
     "metadata": {},
     "output_type": "execute_result"
    }
   ],
   "source": [
    "np.hstack((ar,ar2))"
   ]
  },
  {
   "cell_type": "code",
   "execution_count": 98,
   "id": "35028ab1-122f-4c04-918b-ba05a4ca29c7",
   "metadata": {},
   "outputs": [
    {
     "data": {
      "text/plain": [
       "array([[1.        , 1.41421356, 1.73205081],\n",
       "       [2.        , 2.23606798, 2.44948974],\n",
       "       [2.64575131, 2.82842712, 3.        ]])"
      ]
     },
     "execution_count": 98,
     "metadata": {},
     "output_type": "execute_result"
    }
   ],
   "source": [
    "np.sqrt(ar)"
   ]
  },
  {
   "cell_type": "code",
   "execution_count": 99,
   "id": "c29f476a-6084-42c2-b4be-ec5a785451c5",
   "metadata": {},
   "outputs": [
    {
     "data": {
      "text/plain": [
       "np.int64(45)"
      ]
     },
     "execution_count": 99,
     "metadata": {},
     "output_type": "execute_result"
    }
   ],
   "source": [
    "ar.sum()"
   ]
  },
  {
   "cell_type": "code",
   "execution_count": 100,
   "id": "4f635463-ba82-4435-a756-bc80cc95284b",
   "metadata": {},
   "outputs": [
    {
     "data": {
      "text/plain": [
       "np.int64(9)"
      ]
     },
     "execution_count": 100,
     "metadata": {},
     "output_type": "execute_result"
    }
   ],
   "source": [
    "ar.max()"
   ]
  },
  {
   "cell_type": "code",
   "execution_count": 101,
   "id": "2be3f5d5-8d1c-47db-9f87-b0d855b4ee66",
   "metadata": {},
   "outputs": [
    {
     "data": {
      "text/plain": [
       "np.int64(1)"
      ]
     },
     "execution_count": 101,
     "metadata": {},
     "output_type": "execute_result"
    }
   ],
   "source": [
    "ar.min()"
   ]
  },
  {
   "cell_type": "code",
   "execution_count": 102,
   "id": "76c877d9-f9e0-4f39-b425-57699d7e8fb8",
   "metadata": {},
   "outputs": [
    {
     "data": {
      "text/plain": [
       "array([[1, 2, 3],\n",
       "       [4, 5, 6],\n",
       "       [7, 8, 9]])"
      ]
     },
     "execution_count": 102,
     "metadata": {},
     "output_type": "execute_result"
    }
   ],
   "source": [
    "ar"
   ]
  },
  {
   "cell_type": "code",
   "execution_count": 103,
   "id": "56189556-6d0b-4d10-b087-c25f09edd30e",
   "metadata": {},
   "outputs": [
    {
     "data": {
      "text/plain": [
       "(array([2, 2, 2]), array([0, 1, 2]))"
      ]
     },
     "execution_count": 103,
     "metadata": {},
     "output_type": "execute_result"
    }
   ],
   "source": [
    "np.where(ar>6) "
   ]
  },
  {
   "cell_type": "code",
   "execution_count": 104,
   "id": "5d4d11ce-253f-4c93-902b-8d9c5b2fe79c",
   "metadata": {},
   "outputs": [
    {
     "data": {
      "text/plain": [
       "tuple"
      ]
     },
     "execution_count": 104,
     "metadata": {},
     "output_type": "execute_result"
    }
   ],
   "source": [
    "type(np.where(ar>6))"
   ]
  },
  {
   "cell_type": "code",
   "execution_count": 105,
   "id": "2cce3e99-a856-460a-93b2-2de5bdfb44ff",
   "metadata": {},
   "outputs": [
    {
     "data": {
      "text/plain": [
       "9"
      ]
     },
     "execution_count": 105,
     "metadata": {},
     "output_type": "execute_result"
    }
   ],
   "source": [
    "np.count_nonzero(ar)"
   ]
  },
  {
   "cell_type": "code",
   "execution_count": 106,
   "id": "56729bd0-0aeb-4947-aed5-191cc7235ce9",
   "metadata": {},
   "outputs": [
    {
     "data": {
      "text/plain": [
       "(array([0, 0, 0, 1, 1, 1, 2, 2, 2]), array([0, 1, 2, 0, 1, 2, 0, 1, 2]))"
      ]
     },
     "execution_count": 106,
     "metadata": {},
     "output_type": "execute_result"
    }
   ],
   "source": [
    "np.nonzero(ar)"
   ]
  },
  {
   "cell_type": "markdown",
   "id": "bfb13327-2eb2-4405-8061-43c989084259",
   "metadata": {},
   "source": [
    "# Random"
   ]
  },
  {
   "cell_type": "code",
   "execution_count": 107,
   "id": "467c0d10-a9c5-41e3-a7c6-b154d9252538",
   "metadata": {},
   "outputs": [],
   "source": [
    "ran=np.random.rand(4,3)            #make the 4 by 3 array with assign random value"
   ]
  },
  {
   "cell_type": "code",
   "execution_count": 108,
   "id": "be6f7820-8261-4595-9334-7f81e46e7eaa",
   "metadata": {},
   "outputs": [
    {
     "data": {
      "text/plain": [
       "array([[0.6801484 , 0.62232595, 0.19734091],\n",
       "       [0.5616836 , 0.36370296, 0.50468093],\n",
       "       [0.14228089, 0.13440644, 0.13828441],\n",
       "       [0.01268796, 0.54537332, 0.17402797]])"
      ]
     },
     "execution_count": 108,
     "metadata": {},
     "output_type": "execute_result"
    }
   ],
   "source": [
    "ran"
   ]
  },
  {
   "cell_type": "markdown",
   "id": "a38a0feb-4429-4664-a666-f83c719d7456",
   "metadata": {},
   "source": [
    "# Read and Write Text Files"
   ]
  },
  {
   "cell_type": "code",
   "execution_count": 109,
   "id": "a19c6682-73c2-4ac8-9a84-5b45952750c6",
   "metadata": {},
   "outputs": [],
   "source": [
    "x=np.array([[1,3,2],[5,4,6],[8,9,0]])"
   ]
  },
  {
   "cell_type": "markdown",
   "id": "588e004f-c7e0-4392-87b1-997bdddf837b",
   "metadata": {},
   "source": [
    "#Read File"
   ]
  },
  {
   "cell_type": "code",
   "execution_count": 110,
   "id": "7eb05f38-f7c7-45a4-bd35-97d7f832dc5c",
   "metadata": {},
   "outputs": [],
   "source": [
    "np.savetxt(\"D:/Jupyter/text1.txt\",x)"
   ]
  },
  {
   "cell_type": "markdown",
   "id": "3cbb9d9b-8ad3-4a8a-a3e3-828d10b51762",
   "metadata": {},
   "source": [
    "#Write File"
   ]
  },
  {
   "cell_type": "code",
   "execution_count": 112,
   "id": "7bf34c25-9d8e-4fea-bdaa-d40adc9e0589",
   "metadata": {},
   "outputs": [
    {
     "name": "stdout",
     "output_type": "stream",
     "text": [
      "[[1. 3. 2.]\n",
      " [5. 4. 6.]\n",
      " [8. 9. 0.]]\n"
     ]
    }
   ],
   "source": [
    "y=np.loadtxt(\"D:/Jupyter/text1.txt\")\n",
    "print(y)"
   ]
  },
  {
   "cell_type": "markdown",
   "id": "ca9720cd-9e1a-4b93-8ef9-25785178f3ee",
   "metadata": {},
   "source": [
    "#References for more about numpy-->> Scipy website"
   ]
  }
 ],
 "metadata": {
  "kernelspec": {
   "display_name": "Python 3 (ipykernel)",
   "language": "python",
   "name": "python3"
  },
  "language_info": {
   "codemirror_mode": {
    "name": "ipython",
    "version": 3
   },
   "file_extension": ".py",
   "mimetype": "text/x-python",
   "name": "python",
   "nbconvert_exporter": "python",
   "pygments_lexer": "ipython3",
   "version": "3.12.4"
  }
 },
 "nbformat": 4,
 "nbformat_minor": 5
}
